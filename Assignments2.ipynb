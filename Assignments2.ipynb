{
 "cells": [
  {
   "cell_type": "code",
   "execution_count": 39,
   "id": "120afb22-a36f-4ac4-967e-b34ebbece072",
   "metadata": {},
   "outputs": [
    {
     "name": "stderr",
     "output_type": "stream",
     "text": [
      "[nltk_data] Downloading package punkt_tab to\n",
      "[nltk_data]     /home/takaya_shirai@pip.waseda.ac.jp/nltk_data...\n",
      "[nltk_data]   Package punkt_tab is already up-to-date!\n",
      "[nltk_data] Downloading package averaged_perceptron_tagger_eng to\n",
      "[nltk_data]     /home/takaya_shirai@pip.waseda.ac.jp/nltk_data...\n",
      "[nltk_data]   Package averaged_perceptron_tagger_eng is already up-to-\n",
      "[nltk_data]       date!\n",
      "[nltk_data] Downloading package wordnet to\n",
      "[nltk_data]     /home/takaya_shirai@pip.waseda.ac.jp/nltk_data...\n",
      "[nltk_data]   Package wordnet is already up-to-date!\n",
      "[nltk_data] Downloading package stopwords to\n",
      "[nltk_data]     /home/takaya_shirai@pip.waseda.ac.jp/nltk_data...\n",
      "[nltk_data]   Package stopwords is already up-to-date!\n"
     ]
    },
    {
     "data": {
      "text/plain": [
       "True"
      ]
     },
     "execution_count": 39,
     "metadata": {},
     "output_type": "execute_result"
    }
   ],
   "source": [
    "# Import libraries\n",
    "import nltk\n",
    "from nltk.tokenize import word_tokenize\n",
    "from nltk.tag import pos_tag\n",
    "from nltk.stem import WordNetLemmatizer\n",
    "from nltk.corpus import stopwords\n",
    "from nltk import FreqDist, NaiveBayesClassifier, classify\n",
    "import re\n",
    "import string\n",
    "import random\n",
    "import pandas as pd\n",
    "\n",
    "# Download NLTK data files (if not already installed)\n",
    "nltk.download('punkt_tab')\n",
    "nltk.download('averaged_perceptron_tagger_eng')\n",
    "nltk.download('wordnet')\n",
    "nltk.download('stopwords')"
   ]
  },
  {
   "cell_type": "code",
   "execution_count": 40,
   "id": "ff507ffb-4646-4e4f-ad65-7038a1e21283",
   "metadata": {
    "tags": []
   },
   "outputs": [],
   "source": [
    "# Define a function to clean and normalize tokens\n",
    "def normalize_and_remove_noise(pos_tokens, stop_words = ()):\n",
    "    cleaned_tokens = []\n",
    "\n",
    "    for token, tag in pos_tokens:\n",
    "        # Remove URLs starting with http:// or https://\n",
    "        token = re.sub('http[s]?://(?:[a-zA-Z]|[0-9]|[$-_@.&+#]|[!*\\(\\),]|'\\\n",
    "                       '(?:%[0-9a-fA-F][0-9a-fA-F]))+','', token)\n",
    "\n",
    "        # Determine part of speech for lemmatization\n",
    "        if tag.startswith(\"NN\"):\n",
    "            pos = 'n'\n",
    "        elif tag.startswith('VB'):\n",
    "            pos = 'v'\n",
    "        else:\n",
    "            pos = 'a'\n",
    "\n",
    "        # Lemmatize token\n",
    "        lemmatizer = WordNetLemmatizer()\n",
    "        token = lemmatizer.lemmatize(token, pos)\n",
    "\n",
    "        # Remove punctuation, special characters, and stop words\n",
    "        if len(token) > 0 and token not in string.punctuation and token.lower() not in stop_words:\n",
    "            cleaned_tokens.append(token.lower())\n",
    "    return cleaned_tokens"
   ]
  },
  {
   "cell_type": "code",
   "execution_count": 41,
   "id": "6cca2611-be04-4b11-a749-cd5ac5ef8953",
   "metadata": {
    "tags": []
   },
   "outputs": [],
   "source": [
    "# Define a function to prepare tokens for the Naive Bayes model\n",
    "def prepare_tokens_for_model(cleaned_tokens):\n",
    "    for tokens in cleaned_tokens:\n",
    "        yield dict([token, True] for token in tokens)"
   ]
  },
  {
   "cell_type": "code",
   "execution_count": 42,
   "id": "b73cc3e3-e25a-4a7e-917d-e228a19f6090",
   "metadata": {
    "tags": []
   },
   "outputs": [
    {
     "name": "stdout",
     "output_type": "stream",
     "text": [
      "Number of positive samples: 25000\n",
      "Number of negative samples: 25000\n"
     ]
    }
   ],
   "source": [
    "# Load the dataset\n",
    "data = pd.read_csv('./data/IMDB Dataset.csv')\n",
    "\n",
    "# Separate positive and negative reviews\n",
    "positive_reviews = data[data['sentiment'] == 'positive']\n",
    "negative_reviews = data[data['sentiment'] == 'negative']\n",
    "\n",
    "# Display the number of positive and negative samples\n",
    "print(\"Number of positive samples:\", len(positive_reviews))\n",
    "print(\"Number of negative samples:\", len(negative_reviews))\n",
    "\n",
    "# Tokenize and POS-tag the data\n",
    "positive_tokens = positive_reviews['review'].apply(word_tokenize)\n",
    "negative_tokens = negative_reviews['review'].apply(word_tokenize)\n",
    "\n",
    "pos_tagged_positive_tokens = positive_tokens.apply(pos_tag)\n",
    "pos_tagged_negative_tokens = negative_tokens.apply(pos_tag)"
   ]
  },
  {
   "cell_type": "code",
   "execution_count": 43,
   "id": "706c79fc-d64f-4ed3-a20f-502bed67c36c",
   "metadata": {
    "tags": []
   },
   "outputs": [],
   "source": [
    "# Define stop words\n",
    "stop_words = stopwords.words('english')\n",
    "\n",
    "# Clean the tokens\n",
    "cleaned_positive_tokens = [normalize_and_remove_noise(tokens, stop_words) for tokens in pos_tagged_positive_tokens]\n",
    "cleaned_negative_tokens = [normalize_and_remove_noise(tokens, stop_words) for tokens in pos_tagged_negative_tokens]"
   ]
  },
  {
   "cell_type": "code",
   "execution_count": 46,
   "id": "80962aef-56ef-4259-b376-a0f12f57b5fe",
   "metadata": {
    "tags": []
   },
   "outputs": [],
   "source": [
    "# Prepare data for the model\n",
    "positive_features = prepare_tokens_for_model(positive_cleaned_tokens)\n",
    "negative_features = prepare_tokens_for_model(negative_cleaned_tokens)\n",
    "\n",
    "# Label datasets as positive or negative\n",
    "positive_dataset = [(feature_set, \"Positive\") for feature_set in positive_features]\n",
    "negative_dataset = [(feature_set, \"Negative\") for feature_set in negative_features]\n",
    "\n",
    "# Combine and shuffle the dataset\n",
    "dataset = positive_dataset + negative_dataset\n",
    "random.shuffle(dataset)\n",
    "\n",
    "# Split data into training (90%) and testing (10%) sets\n",
    "train_data_size = int(len(dataset) * 0.9)\n",
    "train_data = dataset[:train_data_size]\n",
    "test_data = dataset[train_data_size:]"
   ]
  },
  {
   "cell_type": "code",
   "execution_count": 47,
   "id": "7ff5ce1c-62ff-4ba9-a58a-843fb8352076",
   "metadata": {
    "tags": []
   },
   "outputs": [
    {
     "name": "stdout",
     "output_type": "stream",
     "text": [
      "Accuracy is: 0.8606\n",
      "Most Informative Features\n",
      "                    2/10 = True           Negati : Positi =     83.1 : 1.0\n",
      "                    boll = True           Negati : Positi =     58.4 : 1.0\n",
      "                     uwe = True           Negati : Positi =     57.7 : 1.0\n",
      "                    3/10 = True           Negati : Positi =     57.5 : 1.0\n",
      "                  awful. = True           Negati : Positi =     47.0 : 1.0\n",
      "                    4/10 = True           Negati : Positi =     36.3 : 1.0\n",
      "               terrible. = True           Negati : Positi =     33.7 : 1.0\n",
      "                    8/10 = True           Positi : Negati =     30.6 : 1.0\n",
      "                    1/10 = True           Negati : Positi =     29.7 : 1.0\n",
      "                      d- = True           Negati : Positi =     29.7 : 1.0\n",
      "None\n"
     ]
    }
   ],
   "source": [
    "# Train Naive Bayes classifier\n",
    "classifier = NaiveBayesClassifier.train(train_data)\n",
    "\n",
    "# Evaluate and display model accuracy\n",
    "print(\"Accuracy is:\", classify.accuracy(classifier, test_data))\n",
    "\n",
    "# Display the most informative features\n",
    "print(classifier.show_most_informative_features(10))"
   ]
  }
 ],
 "metadata": {
  "kernelspec": {
   "display_name": "py38-shirai",
   "language": "python",
   "name": "py38-shirai"
  },
  "language_info": {
   "codemirror_mode": {
    "name": "ipython",
    "version": 3
   },
   "file_extension": ".py",
   "mimetype": "text/x-python",
   "name": "python",
   "nbconvert_exporter": "python",
   "pygments_lexer": "ipython3",
   "version": "3.8.20"
  }
 },
 "nbformat": 4,
 "nbformat_minor": 5
}
